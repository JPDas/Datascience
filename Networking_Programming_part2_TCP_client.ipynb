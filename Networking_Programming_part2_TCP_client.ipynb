{
 "cells": [
  {
   "cell_type": "code",
   "execution_count": 1,
   "metadata": {},
   "outputs": [],
   "source": [
    "import socket"
   ]
  },
  {
   "cell_type": "code",
   "execution_count": 5,
   "metadata": {},
   "outputs": [],
   "source": [
    "host = 'localhost'\n",
    "port = 27000\n"
   ]
  },
  {
   "cell_type": "code",
   "execution_count": 6,
   "metadata": {},
   "outputs": [
    {
     "name": "stdout",
     "output_type": "stream",
     "text": [
      "Received:  Hello client, how are you?\n",
      "Received:  Bye\n"
     ]
    }
   ],
   "source": [
    "clisock = socket.socket(socket.AF_INET, socket.SOCK_STREAM)\n",
    "\n",
    "clisock.connect((host, port))\n",
    "\n",
    "msg = clisock.recv(1024)\n",
    "\n",
    "while msg:\n",
    "    print('Received: ',msg.decode())\n",
    "    msg = clisock.recv(1024)\n",
    "    \n",
    "\n",
    "clisock.close()"
   ]
  },
  {
   "cell_type": "code",
   "execution_count": null,
   "metadata": {},
   "outputs": [],
   "source": []
  }
 ],
 "metadata": {
  "kernelspec": {
   "display_name": "Python 3",
   "language": "python",
   "name": "python3"
  },
  "language_info": {
   "codemirror_mode": {
    "name": "ipython",
    "version": 3
   },
   "file_extension": ".py",
   "mimetype": "text/x-python",
   "name": "python",
   "nbconvert_exporter": "python",
   "pygments_lexer": "ipython3",
   "version": "3.7.4"
  }
 },
 "nbformat": 4,
 "nbformat_minor": 2
}
