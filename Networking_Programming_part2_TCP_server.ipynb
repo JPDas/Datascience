{
 "cells": [
  {
   "cell_type": "code",
   "execution_count": 1,
   "metadata": {},
   "outputs": [],
   "source": [
    "import socket"
   ]
  },
  {
   "cell_type": "code",
   "execution_count": 2,
   "metadata": {},
   "outputs": [],
   "source": [
    "#TCP server\n",
    "\n",
    "host = 'localhost'\n",
    "port = 27000\n",
    "\n",
    "sockfd = socket.socket(socket.AF_INET, socket.SOCK_STREAM)\n",
    "\n",
    "sockfd.bind((host, port))\n",
    "\n",
    "sockfd.listen(1)"
   ]
  },
  {
   "cell_type": "code",
   "execution_count": 3,
   "metadata": {},
   "outputs": [
    {
     "name": "stdout",
     "output_type": "stream",
     "text": [
      "Connection from:  ('127.0.0.1', 57832)\n"
     ]
    }
   ],
   "source": [
    "connfd, addr = sockfd.accept()\n",
    "\n",
    "print('Connection from: ', str(addr))\n",
    "connfd.send(b'Hello client, how are you?')\n",
    "\n",
    "connfd.send('Bye'.encode())\n",
    "\n",
    "connfd.close()"
   ]
  }
 ],
 "metadata": {
  "kernelspec": {
   "display_name": "Python 3",
   "language": "python",
   "name": "python3"
  },
  "language_info": {
   "codemirror_mode": {
    "name": "ipython",
    "version": 3
   },
   "file_extension": ".py",
   "mimetype": "text/x-python",
   "name": "python",
   "nbconvert_exporter": "python",
   "pygments_lexer": "ipython3",
   "version": "3.7.4"
  }
 },
 "nbformat": 4,
 "nbformat_minor": 2
}
