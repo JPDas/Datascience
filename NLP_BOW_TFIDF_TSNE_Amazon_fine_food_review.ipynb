{
 "cells": [
  {
   "cell_type": "markdown",
   "metadata": {},
   "source": [
    "https://www.kaggle.com/snap/amazon-fine-food-reviews/data#"
   ]
  },
  {
   "cell_type": "code",
   "execution_count": 1,
   "metadata": {},
   "outputs": [],
   "source": [
    "import sqlite3\n",
    "import pandas as pd\n",
    "import numpy as np\n",
    "import nltk\n",
    "import matplotlib.pyplot as plt\n",
    "import string\n",
    "import seaborn as sns\n",
    "\n",
    "%matplotlib inline"
   ]
  },
  {
   "cell_type": "code",
   "execution_count": 2,
   "metadata": {},
   "outputs": [],
   "source": [
    "con = sqlite3.connect('database.sqlite')"
   ]
  },
  {
   "cell_type": "code",
   "execution_count": 3,
   "metadata": {},
   "outputs": [],
   "source": [
    "filtered_data = pd.read_sql_query(\"\"\" SELECT * from Reviews where score!= 3\"\"\", con)"
   ]
  },
  {
   "cell_type": "code",
   "execution_count": 4,
   "metadata": {},
   "outputs": [],
   "source": [
    "# positive and negative rating\n",
    "\n",
    "def partition(x):\n",
    "    if x < 3:\n",
    "        return 'negative'\n",
    "    return 'positive'\n",
    "\n",
    "filtered_data['Score'] = filtered_data['Score'].apply(partition)\n"
   ]
  },
  {
   "cell_type": "code",
   "execution_count": 5,
   "metadata": {},
   "outputs": [
    {
     "data": {
      "text/plain": [
       "(525814, 10)"
      ]
     },
     "execution_count": 5,
     "metadata": {},
     "output_type": "execute_result"
    }
   ],
   "source": [
    "filtered_data.shape"
   ]
  },
  {
   "cell_type": "code",
   "execution_count": 6,
   "metadata": {},
   "outputs": [
    {
     "data": {
      "text/html": [
       "<div>\n",
       "<style scoped>\n",
       "    .dataframe tbody tr th:only-of-type {\n",
       "        vertical-align: middle;\n",
       "    }\n",
       "\n",
       "    .dataframe tbody tr th {\n",
       "        vertical-align: top;\n",
       "    }\n",
       "\n",
       "    .dataframe thead th {\n",
       "        text-align: right;\n",
       "    }\n",
       "</style>\n",
       "<table border=\"1\" class=\"dataframe\">\n",
       "  <thead>\n",
       "    <tr style=\"text-align: right;\">\n",
       "      <th></th>\n",
       "      <th>Id</th>\n",
       "      <th>ProductId</th>\n",
       "      <th>UserId</th>\n",
       "      <th>ProfileName</th>\n",
       "      <th>HelpfulnessNumerator</th>\n",
       "      <th>HelpfulnessDenominator</th>\n",
       "      <th>Score</th>\n",
       "      <th>Time</th>\n",
       "      <th>Summary</th>\n",
       "      <th>Text</th>\n",
       "    </tr>\n",
       "  </thead>\n",
       "  <tbody>\n",
       "    <tr>\n",
       "      <td>0</td>\n",
       "      <td>1</td>\n",
       "      <td>B001E4KFG0</td>\n",
       "      <td>A3SGXH7AUHU8GW</td>\n",
       "      <td>delmartian</td>\n",
       "      <td>1</td>\n",
       "      <td>1</td>\n",
       "      <td>positive</td>\n",
       "      <td>1303862400</td>\n",
       "      <td>Good Quality Dog Food</td>\n",
       "      <td>I have bought several of the Vitality canned d...</td>\n",
       "    </tr>\n",
       "    <tr>\n",
       "      <td>1</td>\n",
       "      <td>2</td>\n",
       "      <td>B00813GRG4</td>\n",
       "      <td>A1D87F6ZCVE5NK</td>\n",
       "      <td>dll pa</td>\n",
       "      <td>0</td>\n",
       "      <td>0</td>\n",
       "      <td>negative</td>\n",
       "      <td>1346976000</td>\n",
       "      <td>Not as Advertised</td>\n",
       "      <td>Product arrived labeled as Jumbo Salted Peanut...</td>\n",
       "    </tr>\n",
       "    <tr>\n",
       "      <td>2</td>\n",
       "      <td>3</td>\n",
       "      <td>B000LQOCH0</td>\n",
       "      <td>ABXLMWJIXXAIN</td>\n",
       "      <td>Natalia Corres \"Natalia Corres\"</td>\n",
       "      <td>1</td>\n",
       "      <td>1</td>\n",
       "      <td>positive</td>\n",
       "      <td>1219017600</td>\n",
       "      <td>\"Delight\" says it all</td>\n",
       "      <td>This is a confection that has been around a fe...</td>\n",
       "    </tr>\n",
       "    <tr>\n",
       "      <td>3</td>\n",
       "      <td>4</td>\n",
       "      <td>B000UA0QIQ</td>\n",
       "      <td>A395BORC6FGVXV</td>\n",
       "      <td>Karl</td>\n",
       "      <td>3</td>\n",
       "      <td>3</td>\n",
       "      <td>negative</td>\n",
       "      <td>1307923200</td>\n",
       "      <td>Cough Medicine</td>\n",
       "      <td>If you are looking for the secret ingredient i...</td>\n",
       "    </tr>\n",
       "    <tr>\n",
       "      <td>4</td>\n",
       "      <td>5</td>\n",
       "      <td>B006K2ZZ7K</td>\n",
       "      <td>A1UQRSCLF8GW1T</td>\n",
       "      <td>Michael D. Bigham \"M. Wassir\"</td>\n",
       "      <td>0</td>\n",
       "      <td>0</td>\n",
       "      <td>positive</td>\n",
       "      <td>1350777600</td>\n",
       "      <td>Great taffy</td>\n",
       "      <td>Great taffy at a great price.  There was a wid...</td>\n",
       "    </tr>\n",
       "  </tbody>\n",
       "</table>\n",
       "</div>"
      ],
      "text/plain": [
       "   Id   ProductId          UserId                      ProfileName  \\\n",
       "0   1  B001E4KFG0  A3SGXH7AUHU8GW                       delmartian   \n",
       "1   2  B00813GRG4  A1D87F6ZCVE5NK                           dll pa   \n",
       "2   3  B000LQOCH0   ABXLMWJIXXAIN  Natalia Corres \"Natalia Corres\"   \n",
       "3   4  B000UA0QIQ  A395BORC6FGVXV                             Karl   \n",
       "4   5  B006K2ZZ7K  A1UQRSCLF8GW1T    Michael D. Bigham \"M. Wassir\"   \n",
       "\n",
       "   HelpfulnessNumerator  HelpfulnessDenominator     Score        Time  \\\n",
       "0                     1                       1  positive  1303862400   \n",
       "1                     0                       0  negative  1346976000   \n",
       "2                     1                       1  positive  1219017600   \n",
       "3                     3                       3  negative  1307923200   \n",
       "4                     0                       0  positive  1350777600   \n",
       "\n",
       "                 Summary                                               Text  \n",
       "0  Good Quality Dog Food  I have bought several of the Vitality canned d...  \n",
       "1      Not as Advertised  Product arrived labeled as Jumbo Salted Peanut...  \n",
       "2  \"Delight\" says it all  This is a confection that has been around a fe...  \n",
       "3         Cough Medicine  If you are looking for the secret ingredient i...  \n",
       "4            Great taffy  Great taffy at a great price.  There was a wid...  "
      ]
     },
     "execution_count": 6,
     "metadata": {},
     "output_type": "execute_result"
    }
   ],
   "source": [
    "filtered_data.head()"
   ]
  },
  {
   "cell_type": "markdown",
   "metadata": {},
   "source": [
    "### Data cleaning"
   ]
  },
  {
   "cell_type": "code",
   "execution_count": 7,
   "metadata": {},
   "outputs": [
    {
     "data": {
      "text/plain": [
       "0"
      ]
     },
     "execution_count": 7,
     "metadata": {},
     "output_type": "execute_result"
    }
   ],
   "source": [
    "sum(filtered_data.duplicated())"
   ]
  },
  {
   "cell_type": "code",
   "execution_count": 8,
   "metadata": {},
   "outputs": [],
   "source": [
    "sorted_data = filtered_data.sort_values('ProductId', axis = 0, ascending=True)"
   ]
  },
  {
   "cell_type": "code",
   "execution_count": 9,
   "metadata": {},
   "outputs": [
    {
     "data": {
      "text/html": [
       "<div>\n",
       "<style scoped>\n",
       "    .dataframe tbody tr th:only-of-type {\n",
       "        vertical-align: middle;\n",
       "    }\n",
       "\n",
       "    .dataframe tbody tr th {\n",
       "        vertical-align: top;\n",
       "    }\n",
       "\n",
       "    .dataframe thead th {\n",
       "        text-align: right;\n",
       "    }\n",
       "</style>\n",
       "<table border=\"1\" class=\"dataframe\">\n",
       "  <thead>\n",
       "    <tr style=\"text-align: right;\">\n",
       "      <th></th>\n",
       "      <th>Id</th>\n",
       "      <th>ProductId</th>\n",
       "      <th>UserId</th>\n",
       "      <th>ProfileName</th>\n",
       "      <th>HelpfulnessNumerator</th>\n",
       "      <th>HelpfulnessDenominator</th>\n",
       "      <th>Score</th>\n",
       "      <th>Time</th>\n",
       "      <th>Summary</th>\n",
       "      <th>Text</th>\n",
       "    </tr>\n",
       "  </thead>\n",
       "  <tbody>\n",
       "    <tr>\n",
       "      <td>138706</td>\n",
       "      <td>150524</td>\n",
       "      <td>0006641040</td>\n",
       "      <td>ACITT7DI6IDDL</td>\n",
       "      <td>shari zychinski</td>\n",
       "      <td>0</td>\n",
       "      <td>0</td>\n",
       "      <td>positive</td>\n",
       "      <td>939340800</td>\n",
       "      <td>EVERY book is educational</td>\n",
       "      <td>this witty little book makes my son laugh at l...</td>\n",
       "    </tr>\n",
       "    <tr>\n",
       "      <td>138688</td>\n",
       "      <td>150506</td>\n",
       "      <td>0006641040</td>\n",
       "      <td>A2IW4PEEKO2R0U</td>\n",
       "      <td>Tracy</td>\n",
       "      <td>1</td>\n",
       "      <td>1</td>\n",
       "      <td>positive</td>\n",
       "      <td>1194739200</td>\n",
       "      <td>Love the book, miss the hard cover version</td>\n",
       "      <td>I grew up reading these Sendak books, and watc...</td>\n",
       "    </tr>\n",
       "    <tr>\n",
       "      <td>138689</td>\n",
       "      <td>150507</td>\n",
       "      <td>0006641040</td>\n",
       "      <td>A1S4A3IQ2MU7V4</td>\n",
       "      <td>sally sue \"sally sue\"</td>\n",
       "      <td>1</td>\n",
       "      <td>1</td>\n",
       "      <td>positive</td>\n",
       "      <td>1191456000</td>\n",
       "      <td>chicken soup with rice months</td>\n",
       "      <td>This is a fun way for children to learn their ...</td>\n",
       "    </tr>\n",
       "    <tr>\n",
       "      <td>138690</td>\n",
       "      <td>150508</td>\n",
       "      <td>0006641040</td>\n",
       "      <td>AZGXZ2UUK6X</td>\n",
       "      <td>Catherine Hallberg \"(Kate)\"</td>\n",
       "      <td>1</td>\n",
       "      <td>1</td>\n",
       "      <td>positive</td>\n",
       "      <td>1076025600</td>\n",
       "      <td>a good swingy rhythm for reading aloud</td>\n",
       "      <td>This is a great little book to read aloud- it ...</td>\n",
       "    </tr>\n",
       "    <tr>\n",
       "      <td>138691</td>\n",
       "      <td>150509</td>\n",
       "      <td>0006641040</td>\n",
       "      <td>A3CMRKGE0P909G</td>\n",
       "      <td>Teresa</td>\n",
       "      <td>3</td>\n",
       "      <td>4</td>\n",
       "      <td>positive</td>\n",
       "      <td>1018396800</td>\n",
       "      <td>A great way to learn the months</td>\n",
       "      <td>This is a book of poetry about the months of t...</td>\n",
       "    </tr>\n",
       "  </tbody>\n",
       "</table>\n",
       "</div>"
      ],
      "text/plain": [
       "            Id   ProductId          UserId                  ProfileName  \\\n",
       "138706  150524  0006641040   ACITT7DI6IDDL              shari zychinski   \n",
       "138688  150506  0006641040  A2IW4PEEKO2R0U                        Tracy   \n",
       "138689  150507  0006641040  A1S4A3IQ2MU7V4        sally sue \"sally sue\"   \n",
       "138690  150508  0006641040     AZGXZ2UUK6X  Catherine Hallberg \"(Kate)\"   \n",
       "138691  150509  0006641040  A3CMRKGE0P909G                       Teresa   \n",
       "\n",
       "        HelpfulnessNumerator  HelpfulnessDenominator     Score        Time  \\\n",
       "138706                     0                       0  positive   939340800   \n",
       "138688                     1                       1  positive  1194739200   \n",
       "138689                     1                       1  positive  1191456000   \n",
       "138690                     1                       1  positive  1076025600   \n",
       "138691                     3                       4  positive  1018396800   \n",
       "\n",
       "                                           Summary  \\\n",
       "138706                   EVERY book is educational   \n",
       "138688  Love the book, miss the hard cover version   \n",
       "138689               chicken soup with rice months   \n",
       "138690      a good swingy rhythm for reading aloud   \n",
       "138691             A great way to learn the months   \n",
       "\n",
       "                                                     Text  \n",
       "138706  this witty little book makes my son laugh at l...  \n",
       "138688  I grew up reading these Sendak books, and watc...  \n",
       "138689  This is a fun way for children to learn their ...  \n",
       "138690  This is a great little book to read aloud- it ...  \n",
       "138691  This is a book of poetry about the months of t...  "
      ]
     },
     "execution_count": 9,
     "metadata": {},
     "output_type": "execute_result"
    }
   ],
   "source": [
    "sorted_data.head()"
   ]
  },
  {
   "cell_type": "code",
   "execution_count": 10,
   "metadata": {},
   "outputs": [],
   "source": [
    "#Looks like products are slightly different and probably user has given one review comments, but the Amazon has added in\n",
    "#all the products in the same productId\n",
    "\n",
    "#Remove the duplicates\n",
    "\n",
    "final = sorted_data.drop_duplicates(subset={'UserId', 'ProfileName','Time', 'Text'}, keep='first', inplace=True)"
   ]
  },
  {
   "cell_type": "code",
   "execution_count": 11,
   "metadata": {},
   "outputs": [],
   "source": [
    "final"
   ]
  },
  {
   "cell_type": "code",
   "execution_count": 12,
   "metadata": {},
   "outputs": [
    {
     "data": {
      "text/plain": [
       "Index(['Id', 'ProductId', 'UserId', 'ProfileName', 'HelpfulnessNumerator',\n",
       "       'HelpfulnessDenominator', 'Score', 'Time', 'Summary', 'Text'],\n",
       "      dtype='object')"
      ]
     },
     "execution_count": 12,
     "metadata": {},
     "output_type": "execute_result"
    }
   ],
   "source": [
    "filtered_data.columns"
   ]
  },
  {
   "cell_type": "code",
   "execution_count": 13,
   "metadata": {},
   "outputs": [],
   "source": [
    "final = filtered_data[filtered_data['HelpfulnessNumerator'] <= filtered_data['HelpfulnessDenominator']]"
   ]
  },
  {
   "cell_type": "code",
   "execution_count": 14,
   "metadata": {},
   "outputs": [
    {
     "data": {
      "text/plain": [
       "(525812, 10)"
      ]
     },
     "execution_count": 14,
     "metadata": {},
     "output_type": "execute_result"
    }
   ],
   "source": [
    "final.shape"
   ]
  },
  {
   "cell_type": "code",
   "execution_count": 15,
   "metadata": {},
   "outputs": [
    {
     "data": {
      "text/plain": [
       "positive    443775\n",
       "negative     82037\n",
       "Name: Score, dtype: int64"
      ]
     },
     "execution_count": 15,
     "metadata": {},
     "output_type": "execute_result"
    }
   ],
   "source": [
    "final['Score'].value_counts()"
   ]
  },
  {
   "cell_type": "markdown",
   "metadata": {},
   "source": [
    "### Convert text to vector\n",
    "\n",
    "Review Text ----convert----> d-dim vectors\n",
    "\n",
    "If W^TXi is greater than 0 then review will be positive.\n",
    "\n",
    "if W^TXi is lesser than 0 then review will be negative.\n",
    "\n",
    "Lets there are 3 reviews r1,r2,r3\n",
    "\n",
    "r1 and r2 are similar and r1 and r3 are similiar\n",
    "\n",
    "r1 and r2 are similar so that correspondence vector v and v2 must close each other.\n",
    "\n",
    "Similar text must be closer geometrically.\n",
    "\n",
    "Converting text to vector: \n",
    "        \n",
    "            BOW ( Bag of Words)\n",
    "            TF-IDF\n",
    "            W2V ( Word to vector)\n",
    "            Avg W2V\n",
    "            TF-IDF W2V\n",
    "\n",
    "#### Bag of Words (BOW)\n",
    "\n",
    "    . Simplest technique to convert text to vector.\n",
    "    \n",
    "    Example:\n",
    "     Review 1: This pasta is very tasty and affordable.\n",
    "     Review 2: This pasta is not tasty and is affordable.\n",
    "     Review 3: This pasta is delicious and cheap.\n",
    "     Review 4: Pasta is tasty and pasta tastes good.\n",
    "     \n",
    "     \n",
    "     BOW Concept:\n",
    "     \n",
    "     Step1: Construct dictionary: Set of all unique words from all reviews.\n",
    "     \n",
    "     Step2: For all reviews ri construct vector vi\n",
    "     \n",
    "         Each vi index contains the correspondence words.\n",
    "         \n",
    "         Each cell contains the no of word occurs in review.\n",
    "         \n",
    "         This vector Vi will be sparse matrix..because most of the elements become 0.\n",
    "         \n",
    "    \n",
    "    r1: This pasta is very tasty and affordable.\n",
    "    \n",
    "    r2: This pasta is not tasty and is affordable.\n",
    "    \n",
    "    \n",
    "    Unique word : This, pasta, is, very, not, tasty, and, is, affordable\n",
    "    \n",
    "    Word count for V1 :\n",
    "    \n",
    "        This : 1, pasta : 1 , is : 1, very: 1, not: 0, tasty: 1, and: 1, is: 0, affordable: 1\n",
    "        \n",
    "    Word count for v2:\n",
    "        \n",
    "        This : 1, pasta : 1 , is : 1, very: 0, not: 1, tasty: 1, and: 1, is: 1, affordable: 1\n",
    "    \n",
    "    Now length of v1 and v2 = v1 - v2 = diffence betwween v1 and v2 = root(1 + 1 +1) = root(3).\n",
    "    \n",
    "    so length of root 3 is very close so ..this is the problem in BOW. Because it does not work very well in small changes.\n",
    "    \n",
    " ##### Text pre-processing ( Stemming, Stop word removal, Tokenization, Lemmatization)\n",
    " \n",
    " Some words are not important, when we are putting in vectors these words do not matters. Just remove these words which is called stopwords.\n",
    " \n",
    " Sometimes removing stopwords is very dangereous.\n",
    " \n",
    " Strategy:\n",
    " \n",
    "     1. Removing stop words.\n",
    "     \n",
    "     2. Everything use lowercase.\n",
    "     \n",
    "     3. Replace with stem word.\n",
    "             tasty and tasteful ...taste is stem word.\n",
    "             \n",
    "     4. Lemmatization: Breaking the sentences in to words.\n",
    "             \n",
    "             location will not break like ( New York)\n",
    "             lemmatization knows how to break the sntence.\n",
    "             \n",
    "    \n",
    " Drawback:\n",
    "     \n",
    "     Not taking the semantic meaning of words like cheap and affordable\n",
    " \n",
    " Concept of Uni-gram, Bi-gram and n-gram\n",
    " \n",
    "     Uni-gram : Each word consider as dimension. One word adding in to the vector.\n",
    "     \n",
    "     Bi-gram : Pair of words considering as dimension. 2 consecutive word creating the dimension.\n",
    "     \n",
    "     Tri-gram : 3 consecutive word creating the dimension.\n",
    "     \n",
    "     n-gram : n consecutive word creating the dimension.\n",
    "     \n",
    "     \n",
    "     bi-gram and n-gram retains the sequence information.\n",
    "     \n",
    "#### TF-IDF ( Term frequency - Inverse document frequency)\n",
    "    \n",
    "    From BOW, we learn that\n",
    "    \n",
    "    r1: w1, w2, w3, w2, w5\n",
    "    \n",
    "    r2: w1, w3,w4,w5,w6,w2\n",
    "    \n",
    "    v1 : w1: 1, w2:2 , w3:1, w4: 0, w5:1\n",
    "    \n",
    "    v2: w1:1,w2:1,w3:1,w4:1,w5:1,w6:1\n",
    "    \n",
    "    Formula of TF = No of word occurs in rj / Total no of words in rj\n",
    "    \n",
    "    TF(w2, r1) = 2/5\n",
    "    \n",
    "    IDF:\n",
    "        IDF measures how important of term is.\n",
    "        \n",
    "        idf(wi, D) = log(N/ni)\n",
    "        \n",
    "        where D = list of reviews in doc\n",
    "        \n",
    "        N = No of docs\n",
    "        \n",
    "        ni = no of docs which contains word wi\n",
    "        \n",
    "        Next step is combine TF * IDF"
   ]
  },
  {
   "cell_type": "code",
   "execution_count": 16,
   "metadata": {},
   "outputs": [],
   "source": [
    "# Remove HTML tag\n",
    "# Remove punctuation\n",
    "# Keep english letter not alpha numeric.\n",
    "# Length of word should greater than 2.\n",
    "# Convert word to lower case.\n",
    "# Remove stop word\n",
    "# Finally snow ball stemming the word.\n",
    "\n",
    "\n",
    "import re\n",
    "import nltk\n",
    "from nltk.corpus import stopwords\n",
    "from nltk.stem import PorterStemmer\n",
    "from nltk.stem.wordnet import WordNetLemmatizer\n",
    "import string"
   ]
  },
  {
   "cell_type": "code",
   "execution_count": 17,
   "metadata": {},
   "outputs": [],
   "source": [
    "#Set the english stop word\n",
    "\n",
    "stop_word = set(stopwords.words('english'))\n",
    "snow = nltk.stem.SnowballStemmer('english')"
   ]
  },
  {
   "cell_type": "code",
   "execution_count": 18,
   "metadata": {},
   "outputs": [],
   "source": [
    "def clean_punctuation(sentence):\n",
    "    cleaned = re.sub(r'[?|!|\\'|\\\"|#]', r'', sentence)\n",
    "    cleaned = re.sub(r'[.|,|)|(|\\|/]', r'', cleaned)\n",
    "                     \n",
    "    return cleaned"
   ]
  },
  {
   "cell_type": "code",
   "execution_count": 19,
   "metadata": {},
   "outputs": [],
   "source": [
    "def clean_html(sentence):\n",
    "    clean = re.compile('<.*?>')\n",
    "    clean_text = re.sub(clean, '', sentence)\n",
    "    \n",
    "    return clean_text"
   ]
  },
  {
   "cell_type": "code",
   "execution_count": 20,
   "metadata": {},
   "outputs": [
    {
     "name": "stdout",
     "output_type": "stream",
     "text": [
      "{'yourself', 'as', 'y', 'off', 'yourselves', 'were', \"couldn't\", \"you'd\", 'all', 'up', 'too', 'can', 'me', 'don', 'above', 'didn', 'on', 'before', 'now', 'what', 'why', 'them', 'hadn', 'it', 'we', \"she's\", 'its', 'our', 'ours', 'no', \"isn't\", 'most', 's', 'here', 'where', 'out', 'weren', 'while', 'did', 'but', 'some', 'itself', 'yours', 'which', 'herself', \"weren't\", 'nor', 'isn', 'own', 'doesn', 'until', 'into', 'ourselves', 'had', 'do', 't', 'be', 'needn', 'that', 'my', 'myself', \"won't\", 'been', 'who', 'does', 'a', 've', 'with', 'just', 'he', \"shouldn't\", 'only', 'these', 'are', 'if', 'at', 'the', 'other', 'than', 'themselves', 'each', 'very', 'll', 'won', 'whom', 'wouldn', 'was', 'because', 'have', 'm', 'mightn', \"didn't\", 'any', 'couldn', 'an', 'him', 'in', 'shan', 'both', 'hers', 'down', \"it's\", 'over', \"doesn't\", 'further', 'for', 'your', \"mightn't\", 'being', 'doing', \"should've\", 'am', 'how', 'about', 'having', \"wouldn't\", 're', \"hadn't\", 'below', \"don't\", 'you', 'there', 'to', 'o', 'ma', 'haven', \"you're\", 'those', 'or', 'once', \"shan't\", 'her', 'from', 'she', 'shouldn', \"aren't\", 'has', 'i', \"needn't\", 'their', 'they', 'theirs', 'again', 'aren', 'against', 'by', 'under', 'when', 'hasn', 'so', \"haven't\", 'ain', 'through', 'same', 'his', 'more', 'not', 'such', 'and', 'between', 'd', \"that'll\", \"hasn't\", \"you've\", 'after', 'himself', 'this', \"mustn't\", \"you'll\", 'then', 'should', 'during', 'wasn', 'mustn', 'is', 'few', 'of', \"wasn't\", 'will'}\n"
     ]
    }
   ],
   "source": [
    "print(stop_word)"
   ]
  },
  {
   "cell_type": "code",
   "execution_count": 21,
   "metadata": {},
   "outputs": [
    {
     "name": "stdout",
     "output_type": "stream",
     "text": [
      "tast\n"
     ]
    }
   ],
   "source": [
    "print(snow.stem('tasteful'))"
   ]
  },
  {
   "cell_type": "code",
   "execution_count": 22,
   "metadata": {},
   "outputs": [
    {
     "name": "stderr",
     "output_type": "stream",
     "text": [
      "C:\\Users\\Jyotiprakash Das\\Anaconda3\\lib\\site-packages\\ipykernel_launcher.py:36: SettingWithCopyWarning: \n",
      "A value is trying to be set on a copy of a slice from a DataFrame.\n",
      "Try using .loc[row_indexer,col_indexer] = value instead\n",
      "\n",
      "See the caveats in the documentation: http://pandas.pydata.org/pandas-docs/stable/user_guide/indexing.html#returning-a-view-versus-a-copy\n"
     ]
    },
    {
     "data": {
      "text/html": [
       "<div>\n",
       "<style scoped>\n",
       "    .dataframe tbody tr th:only-of-type {\n",
       "        vertical-align: middle;\n",
       "    }\n",
       "\n",
       "    .dataframe tbody tr th {\n",
       "        vertical-align: top;\n",
       "    }\n",
       "\n",
       "    .dataframe thead th {\n",
       "        text-align: right;\n",
       "    }\n",
       "</style>\n",
       "<table border=\"1\" class=\"dataframe\">\n",
       "  <thead>\n",
       "    <tr style=\"text-align: right;\">\n",
       "      <th></th>\n",
       "      <th>Id</th>\n",
       "      <th>ProductId</th>\n",
       "      <th>UserId</th>\n",
       "      <th>ProfileName</th>\n",
       "      <th>HelpfulnessNumerator</th>\n",
       "      <th>HelpfulnessDenominator</th>\n",
       "      <th>Score</th>\n",
       "      <th>Time</th>\n",
       "      <th>Summary</th>\n",
       "      <th>Text</th>\n",
       "      <th>Cleaned Text</th>\n",
       "    </tr>\n",
       "  </thead>\n",
       "  <tbody>\n",
       "    <tr>\n",
       "      <td>0</td>\n",
       "      <td>1</td>\n",
       "      <td>B001E4KFG0</td>\n",
       "      <td>A3SGXH7AUHU8GW</td>\n",
       "      <td>delmartian</td>\n",
       "      <td>1</td>\n",
       "      <td>1</td>\n",
       "      <td>positive</td>\n",
       "      <td>1303862400</td>\n",
       "      <td>Good Quality Dog Food</td>\n",
       "      <td>I have bought several of the Vitality canned d...</td>\n",
       "      <td>b'bought sever vital can dog food product foun...</td>\n",
       "    </tr>\n",
       "    <tr>\n",
       "      <td>1</td>\n",
       "      <td>2</td>\n",
       "      <td>B00813GRG4</td>\n",
       "      <td>A1D87F6ZCVE5NK</td>\n",
       "      <td>dll pa</td>\n",
       "      <td>0</td>\n",
       "      <td>0</td>\n",
       "      <td>negative</td>\n",
       "      <td>1346976000</td>\n",
       "      <td>Not as Advertised</td>\n",
       "      <td>Product arrived labeled as Jumbo Salted Peanut...</td>\n",
       "      <td>b'product arriv label jumbo salt peanutsth pea...</td>\n",
       "    </tr>\n",
       "    <tr>\n",
       "      <td>2</td>\n",
       "      <td>3</td>\n",
       "      <td>B000LQOCH0</td>\n",
       "      <td>ABXLMWJIXXAIN</td>\n",
       "      <td>Natalia Corres \"Natalia Corres\"</td>\n",
       "      <td>1</td>\n",
       "      <td>1</td>\n",
       "      <td>positive</td>\n",
       "      <td>1219017600</td>\n",
       "      <td>\"Delight\" says it all</td>\n",
       "      <td>This is a confection that has been around a fe...</td>\n",
       "      <td>b'confect around centuri light pillowi citrus ...</td>\n",
       "    </tr>\n",
       "    <tr>\n",
       "      <td>3</td>\n",
       "      <td>4</td>\n",
       "      <td>B000UA0QIQ</td>\n",
       "      <td>A395BORC6FGVXV</td>\n",
       "      <td>Karl</td>\n",
       "      <td>3</td>\n",
       "      <td>3</td>\n",
       "      <td>negative</td>\n",
       "      <td>1307923200</td>\n",
       "      <td>Cough Medicine</td>\n",
       "      <td>If you are looking for the secret ingredient i...</td>\n",
       "      <td>b'look secret ingredi robitussin believ found ...</td>\n",
       "    </tr>\n",
       "    <tr>\n",
       "      <td>4</td>\n",
       "      <td>5</td>\n",
       "      <td>B006K2ZZ7K</td>\n",
       "      <td>A1UQRSCLF8GW1T</td>\n",
       "      <td>Michael D. Bigham \"M. Wassir\"</td>\n",
       "      <td>0</td>\n",
       "      <td>0</td>\n",
       "      <td>positive</td>\n",
       "      <td>1350777600</td>\n",
       "      <td>Great taffy</td>\n",
       "      <td>Great taffy at a great price.  There was a wid...</td>\n",
       "      <td>b'great taffi great price wide assort yummi ta...</td>\n",
       "    </tr>\n",
       "  </tbody>\n",
       "</table>\n",
       "</div>"
      ],
      "text/plain": [
       "   Id   ProductId          UserId                      ProfileName  \\\n",
       "0   1  B001E4KFG0  A3SGXH7AUHU8GW                       delmartian   \n",
       "1   2  B00813GRG4  A1D87F6ZCVE5NK                           dll pa   \n",
       "2   3  B000LQOCH0   ABXLMWJIXXAIN  Natalia Corres \"Natalia Corres\"   \n",
       "3   4  B000UA0QIQ  A395BORC6FGVXV                             Karl   \n",
       "4   5  B006K2ZZ7K  A1UQRSCLF8GW1T    Michael D. Bigham \"M. Wassir\"   \n",
       "\n",
       "   HelpfulnessNumerator  HelpfulnessDenominator     Score        Time  \\\n",
       "0                     1                       1  positive  1303862400   \n",
       "1                     0                       0  negative  1346976000   \n",
       "2                     1                       1  positive  1219017600   \n",
       "3                     3                       3  negative  1307923200   \n",
       "4                     0                       0  positive  1350777600   \n",
       "\n",
       "                 Summary                                               Text  \\\n",
       "0  Good Quality Dog Food  I have bought several of the Vitality canned d...   \n",
       "1      Not as Advertised  Product arrived labeled as Jumbo Salted Peanut...   \n",
       "2  \"Delight\" says it all  This is a confection that has been around a fe...   \n",
       "3         Cough Medicine  If you are looking for the secret ingredient i...   \n",
       "4            Great taffy  Great taffy at a great price.  There was a wid...   \n",
       "\n",
       "                                        Cleaned Text  \n",
       "0  b'bought sever vital can dog food product foun...  \n",
       "1  b'product arriv label jumbo salt peanutsth pea...  \n",
       "2  b'confect around centuri light pillowi citrus ...  \n",
       "3  b'look secret ingredi robitussin believ found ...  \n",
       "4  b'great taffi great price wide assort yummi ta...  "
      ]
     },
     "execution_count": 22,
     "metadata": {},
     "output_type": "execute_result"
    }
   ],
   "source": [
    "i = 0\n",
    "str1 = ''\n",
    "final_string=[]\n",
    "all_positive_words=[]\n",
    "all_negative_words=[]\n",
    "s=''\n",
    "\n",
    "for sent in final['Text'].values:\n",
    "\n",
    "    filtered_sentence = []\n",
    "    \n",
    "    sente = clean_html(sent)\n",
    "\n",
    "    for w in sente.split():\n",
    "        for cleaned_word in clean_punctuation(w).split():\n",
    "            if (cleaned_word.isalpha()) & (len(cleaned_word) > 2):\n",
    "                if cleaned_word.lower() not in stop_word:\n",
    "                    s = snow.stem(cleaned_word.lower()).encode('utf8')\n",
    "                    filtered_sentence.append(s)\n",
    "                    \n",
    "                    if i >= final['Score'].values.size:\n",
    "                        break\n",
    "                    if (final['Score'].values)[i] == 'positive':\n",
    "                        all_positive_words.append(s)\n",
    "                    if (final['Score'].values)[i] == 'negative':\n",
    "                        all_negative_words.append(s)\n",
    "                else:\n",
    "                    continue\n",
    "            else:\n",
    "                continue\n",
    "    #print(filtered_sentence)\n",
    "    str1 = b\" \".join(filtered_sentence)\n",
    "    final_string.append(str1)\n",
    "    i +=1\n",
    "\n",
    "final['Cleaned Text'] = final_string\n",
    "\n",
    "final.head()"
   ]
  },
  {
   "cell_type": "code",
   "execution_count": 23,
   "metadata": {},
   "outputs": [
    {
     "name": "stderr",
     "output_type": "stream",
     "text": [
      "C:\\Users\\Jyotiprakash Das\\Anaconda3\\lib\\site-packages\\pandas\\core\\generic.py:2712: UserWarning: The spaces in these column names will not be changed. In pandas versions < 0.14, spaces were converted to underscores.\n",
      "  method=method,\n"
     ]
    }
   ],
   "source": [
    "# Store the final table in to a sqlite table for future\n",
    "\n",
    "conn = sqlite3.connect('final.sqlite')\n",
    "c = conn.cursor()\n",
    "\n",
    "conn.text_factory= str\n",
    "\n",
    "final.to_sql('Reviews', conn, schema = None, if_exists= 'replace', index=True, index_label=None, chunksize=None, dtype=None)"
   ]
  },
  {
   "cell_type": "code",
   "execution_count": 24,
   "metadata": {},
   "outputs": [
    {
     "name": "stderr",
     "output_type": "stream",
     "text": [
      "IOPub data rate exceeded.\n",
      "The notebook server will temporarily stop sending output\n",
      "to the client in order to avoid crashing it.\n",
      "To change this limit, set the config variable\n",
      "`--NotebookApp.iopub_data_rate_limit`.\n",
      "\n",
      "Current values:\n",
      "NotebookApp.iopub_data_rate_limit=1000000.0 (bytes/sec)\n",
      "NotebookApp.rate_limit_window=3.0 (secs)\n",
      "\n"
     ]
    },
    {
     "name": "stdout",
     "output_type": "stream",
     "text": [
      "most common positive word [(b'like', 206093), (b'tast', 179994), (b'love', 164116), (b'flavor', 160030), (b'good', 158476), (b'great', 146894), (b'one', 141030), (b'use', 137733), (b'coffe', 128173), (b'tri', 125263), (b'product', 122300), (b'tea', 119800), (b'food', 112508), (b'get', 106678), (b'make', 100693), (b'would', 80730), (b'dog', 79594), (b'eat', 79218), (b'time', 76819), (b'buy', 76083)]\n",
      "most common negative word [(b'tast', 48058), (b'like', 47366), (b'product', 38493), (b'one', 29758), (b'flavor', 28334), (b'would', 26653), (b'tri', 26076), (b'food', 24766), (b'coffe', 22882), (b'use', 21446), (b'good', 21386), (b'buy', 20166), (b'get', 20094), (b'order', 17954), (b'dog', 17603), (b'eat', 17448), (b'tea', 17250), (b'dont', 17237), (b'even', 16424), (b'box', 15258)]\n"
     ]
    }
   ],
   "source": [
    "# Frequency distribution of the words\n",
    "print(all_positive_words)\n",
    "freq_dist_positive = nltk.FreqDist(all_positive_words)\n",
    "print('most common positive word', freq_dist_positive.most_common(20))\n",
    "freq_dist_negative = nltk.FreqDist(all_negative_words)\n",
    "print('most common negative word', freq_dist_negative.most_common(20))"
   ]
  },
  {
   "cell_type": "code",
   "execution_count": 25,
   "metadata": {},
   "outputs": [],
   "source": [
    "#Taking first 1k positive and first 1k negative\n",
    "data_p=final[final['Score']=='positive'].head(n = 1000)\n",
    "data_n=final[final['Score']=='negative'].head(n = 1000)\n",
    "final_2k=pd.concat([data_p, data_n])"
   ]
  },
  {
   "cell_type": "code",
   "execution_count": 26,
   "metadata": {},
   "outputs": [],
   "source": [
    "Score_2k=final_2k['Score']"
   ]
  },
  {
   "cell_type": "code",
   "execution_count": 27,
   "metadata": {},
   "outputs": [
    {
     "name": "stdout",
     "output_type": "stream",
     "text": [
      "(2000, 11)\n",
      "(2000,)\n"
     ]
    }
   ],
   "source": [
    "print(final_2k.shape)\n",
    "print(Score_2k.shape)"
   ]
  },
  {
   "cell_type": "markdown",
   "metadata": {},
   "source": [
    "### BOW"
   ]
  },
  {
   "cell_type": "code",
   "execution_count": 29,
   "metadata": {},
   "outputs": [],
   "source": [
    "from sklearn.feature_extraction.text import CountVectorizer\n",
    "count_vect = CountVectorizer(ngram_range=(1,2))\n",
    "final_bigram_counts = count_vect.fit_transform(final_2k['Cleaned Text'].values)"
   ]
  },
  {
   "cell_type": "code",
   "execution_count": 30,
   "metadata": {},
   "outputs": [
    {
     "name": "stdout",
     "output_type": "stream",
     "text": [
      "the type of count vectorizer  <class 'scipy.sparse.csr.csr_matrix'>\n",
      "the shape of out text BOW vectorizer  (2000, 62944)\n",
      "the number of unique words including both unigrams and bigrams  62944\n"
     ]
    }
   ],
   "source": [
    "print(\"the type of count vectorizer \",type(final_bigram_counts))\n",
    "print(\"the shape of out text BOW vectorizer \",final_bigram_counts.get_shape())\n",
    "print(\"the number of unique words including both unigrams and bigrams \", final_bigram_counts.get_shape()[1])"
   ]
  },
  {
   "cell_type": "markdown",
   "metadata": {},
   "source": [
    "### TF-IDF"
   ]
  },
  {
   "cell_type": "code",
   "execution_count": 31,
   "metadata": {},
   "outputs": [],
   "source": [
    "from sklearn.feature_extraction.text import TfidfVectorizer"
   ]
  },
  {
   "cell_type": "code",
   "execution_count": 32,
   "metadata": {},
   "outputs": [
    {
     "data": {
      "text/plain": [
       "(2000, 62944)"
      ]
     },
     "execution_count": 32,
     "metadata": {},
     "output_type": "execute_result"
    }
   ],
   "source": [
    "tf_idf_vect = TfidfVectorizer(ngram_range = (1,2))\n",
    "final_tf_idf = tf_idf_vect.fit_transform(final_2k['Cleaned Text'].values)\n",
    "\n",
    "final_tf_idf.get_shape()"
   ]
  },
  {
   "cell_type": "code",
   "execution_count": 33,
   "metadata": {},
   "outputs": [
    {
     "data": {
      "text/plain": [
       "62944"
      ]
     },
     "execution_count": 33,
     "metadata": {},
     "output_type": "execute_result"
    }
   ],
   "source": [
    "features = tf_idf_vect.get_feature_names()\n",
    "\n",
    "len(features)"
   ]
  },
  {
   "cell_type": "code",
   "execution_count": 34,
   "metadata": {},
   "outputs": [
    {
     "data": {
      "text/plain": [
       "[]"
      ]
     },
     "execution_count": 34,
     "metadata": {},
     "output_type": "execute_result"
    }
   ],
   "source": [
    "features[100000:100010]"
   ]
  },
  {
   "cell_type": "code",
   "execution_count": 35,
   "metadata": {},
   "outputs": [
    {
     "name": "stdout",
     "output_type": "stream",
     "text": [
      "[0. 0. 0. ... 0. 0. 0.]\n"
     ]
    }
   ],
   "source": [
    "#convert a row in sparse matrix to a numpy array\n",
    "print(final_tf_idf[3,:].toarray()[0])"
   ]
  },
  {
   "cell_type": "code",
   "execution_count": 36,
   "metadata": {},
   "outputs": [],
   "source": [
    "#Get top 25 tfidf values in a row\n",
    "\n",
    "def top_tfidf_feats(row, features, top_n = 25):\n",
    "    topn_ids = np.argsort(row)[::-1][:top_n]\n",
    "    top_feats = [ (features[i], row[i]) for i in topn_ids]\n",
    "    df = pd.DataFrame(top_feats)\n",
    "    df.columns = ['features', 'tfidf']\n",
    "    \n",
    "    return df\n",
    "\n",
    "top_tfidf = top_tfidf_feats(final_tf_idf[1,:].toarray()[0], features, 25)"
   ]
  },
  {
   "cell_type": "code",
   "execution_count": 37,
   "metadata": {},
   "outputs": [
    {
     "name": "stdout",
     "output_type": "stream",
     "text": [
      "           features     tfidf\n",
      "0             witch  0.249534\n",
      "1              tini  0.163051\n",
      "2             treat  0.138265\n",
      "3              lewi  0.124767\n",
      "4    confect around  0.124767\n",
      "5    around centuri  0.124767\n",
      "6     wardrob treat  0.124767\n",
      "7         lewi lion  0.124767\n",
      "8        liber coat  0.124767\n",
      "9           confect  0.124767\n",
      "10   treat familiar  0.124767\n",
      "11          filbert  0.124767\n",
      "12   citrus gelatin  0.124767\n",
      "13    witch wardrob  0.124767\n",
      "14      treat seduc  0.124767\n",
      "15  recommend yummi  0.124767\n",
      "16      yummi treat  0.124767\n",
      "17      filbert cut  0.124767\n",
      "18   familiar stori  0.124767\n",
      "19    light pillowi  0.124767\n",
      "20   brother sister  0.124767\n",
      "21       tini mouth  0.124767\n",
      "22     seduc edmund  0.124767\n",
      "23            seduc  0.124767\n",
      "24       stori lewi  0.124767\n"
     ]
    }
   ],
   "source": [
    "print(top_tfidf)"
   ]
  },
  {
   "cell_type": "markdown",
   "metadata": {},
   "source": [
    "### Bow using sklearn (Example)"
   ]
  },
  {
   "cell_type": "code",
   "execution_count": 38,
   "metadata": {},
   "outputs": [],
   "source": [
    "\n",
    "\n",
    "from sklearn.feature_extraction.text import CountVectorizer\n",
    "\n"
   ]
  },
  {
   "cell_type": "code",
   "execution_count": 39,
   "metadata": {},
   "outputs": [],
   "source": [
    "strings = [\"the method of lagrange multipliers is the economists workhorse for solving optimization problems\",\n",
    "           \"the technique is a centerpiece of economic theory but unfortunately its usually taught poorly\"]"
   ]
  },
  {
   "cell_type": "code",
   "execution_count": 40,
   "metadata": {},
   "outputs": [],
   "source": [
    "vec = CountVectorizer()"
   ]
  },
  {
   "cell_type": "code",
   "execution_count": 41,
   "metadata": {},
   "outputs": [],
   "source": [
    "feature_matrix = vec.fit_transform(strings)"
   ]
  },
  {
   "cell_type": "code",
   "execution_count": 42,
   "metadata": {},
   "outputs": [
    {
     "data": {
      "text/plain": [
       "(2, 22)"
      ]
     },
     "execution_count": 42,
     "metadata": {},
     "output_type": "execute_result"
    }
   ],
   "source": [
    "feature_matrix.get_shape()"
   ]
  },
  {
   "cell_type": "code",
   "execution_count": 43,
   "metadata": {},
   "outputs": [
    {
     "data": {
      "text/plain": [
       "array([[0, 0, 0, 1, 1, 1, 0, 1, 1, 1, 1, 1, 0, 1, 1, 0, 0, 2, 0, 0, 0, 1],\n",
       "       [1, 1, 1, 0, 0, 1, 1, 0, 0, 0, 1, 0, 1, 0, 0, 1, 1, 1, 1, 1, 1, 0]],\n",
       "      dtype=int64)"
      ]
     },
     "execution_count": 43,
     "metadata": {},
     "output_type": "execute_result"
    }
   ],
   "source": [
    "feature_matrix.toarray()"
   ]
  },
  {
   "cell_type": "markdown",
   "metadata": {},
   "source": [
    "### BOW using custom implementation( Example)"
   ]
  },
  {
   "cell_type": "code",
   "execution_count": 44,
   "metadata": {},
   "outputs": [],
   "source": [
    "\n",
    "from collections import Counter\n",
    "from scipy.sparse import csr_matrix\n",
    "\n",
    "\n",
    "strings = [\"the method of lagrange multipliers is the economists workhorse for solving optimization problems\",\n",
    "           \"the technique is a centerpiece of economic theory but unfortunately its usually taught poorly\"]\n",
    "\n",
    "def get_unique_word(sentences):\n",
    "    unique_word = set()\n",
    "    if isinstance(sentences, (list,)):\n",
    "        for sentence in sentences:\n",
    "            for word in sentence.split():\n",
    "                if len(word) < 2:\n",
    "                    continue\n",
    "                unique_word.add(word)\n",
    "        unique_word = sorted(list(unique_word))\n",
    "        \n",
    "        vocab = {j:i for i, j in enumerate(unique_word)}\n",
    "        \n",
    "        return vocab\n",
    "    else:\n",
    "        print('Wrong input')\n",
    "    \n",
    "def get_frequency_word_of_sparse_matrix(sentences, unique_words):\n",
    "    \n",
    "    rows = []\n",
    "    columns = []\n",
    "    values = []\n",
    "    idx = 0\n",
    "    \n",
    "    if isinstance(sentences, (list,)):\n",
    "        for sentence in sentences:\n",
    "            word_freq = dict(Counter(sentence.split()))\n",
    "            \n",
    "            for word, freq in word_freq.items():\n",
    "                if len(word) < 2:\n",
    "                    continue\n",
    "                col_index = unique_words.get(word, -1)\n",
    "                \n",
    "                if col_index != -1:\n",
    "                    rows.append(idx)\n",
    "                    columns.append(col_index)\n",
    "                    values.append(freq)\n",
    "            idx +=1\n",
    "        return csr_matrix((values, (rows, columns)), shape= (len(sentences), len(unique_words)))\n",
    "    else:\n",
    "        print('wrong input')\n",
    "    \n"
   ]
  },
  {
   "cell_type": "code",
   "execution_count": 45,
   "metadata": {},
   "outputs": [
    {
     "name": "stdout",
     "output_type": "stream",
     "text": [
      "[[0 0 0 1 1 1 0 1 1 1 1 1 0 1 1 0 0 2 0 0 0 1]\n",
      " [1 1 1 0 0 1 1 0 0 0 1 0 1 0 0 1 1 1 1 1 1 0]]\n"
     ]
    }
   ],
   "source": [
    "vocab = get_unique_word(strings)\n",
    "\n",
    "A = get_frequency_word_of_sparse_matrix(strings, vocab)\n",
    "\n",
    "print(A.toarray())"
   ]
  },
  {
   "cell_type": "markdown",
   "metadata": {},
   "source": [
    "Summery: sklearn results and my customs results are same."
   ]
  },
  {
   "cell_type": "markdown",
   "metadata": {},
   "source": [
    "### TFIDF sklearn example"
   ]
  },
  {
   "cell_type": "code",
   "execution_count": 56,
   "metadata": {},
   "outputs": [],
   "source": [
    "from sklearn.feature_extraction.text import TfidfVectorizer\n",
    "\n",
    "\n",
    "strings = [' This is my first string', 'This is my second string', 'This is my third string', ' is it my first string']\n",
    "\n",
    "tfidf_vect = TfidfVectorizer()\n",
    "\n",
    "vectorizer = tfidf_vect.fit(strings)\n",
    "tfidf = vectorizer.transform(strings)"
   ]
  },
  {
   "cell_type": "code",
   "execution_count": 60,
   "metadata": {},
   "outputs": [
    {
     "data": {
      "text/plain": [
       "(4, 8)"
      ]
     },
     "execution_count": 60,
     "metadata": {},
     "output_type": "execute_result"
    }
   ],
   "source": [
    "tfidf.get_shape()"
   ]
  },
  {
   "cell_type": "code",
   "execution_count": 57,
   "metadata": {},
   "outputs": [
    {
     "data": {
      "text/plain": [
       "['first', 'is', 'it', 'my', 'second', 'string', 'third', 'this']"
      ]
     },
     "execution_count": 57,
     "metadata": {},
     "output_type": "execute_result"
    }
   ],
   "source": [
    "vectorizer.get_feature_names()"
   ]
  },
  {
   "cell_type": "code",
   "execution_count": 58,
   "metadata": {},
   "outputs": [
    {
     "data": {
      "text/plain": [
       "array([1.51082562, 1.        , 1.91629073, 1.        , 1.91629073,\n",
       "       1.        , 1.91629073, 1.22314355])"
      ]
     },
     "execution_count": 58,
     "metadata": {},
     "output_type": "execute_result"
    }
   ],
   "source": [
    "vectorizer.idf_"
   ]
  },
  {
   "cell_type": "code",
   "execution_count": 61,
   "metadata": {},
   "outputs": [
    {
     "name": "stdout",
     "output_type": "stream",
     "text": [
      "  (0, 7)\t0.46979138557992045\n",
      "  (0, 5)\t0.38408524091481483\n",
      "  (0, 3)\t0.38408524091481483\n",
      "  (0, 1)\t0.38408524091481483\n",
      "  (0, 0)\t0.5802858236844359\n"
     ]
    }
   ],
   "source": [
    "print(tfidf[0])"
   ]
  },
  {
   "cell_type": "markdown",
   "metadata": {},
   "source": [
    "### TFIDF custom implementation"
   ]
  },
  {
   "cell_type": "code",
   "execution_count": 73,
   "metadata": {},
   "outputs": [],
   "source": [
    "def get_no_of_word_count(word, dataset):\n",
    "    \n",
    "    count = 0\n",
    "    \n",
    "    for row in dataset:\n",
    "        \n",
    "        word_dict = dict(Counter(row.split()))\n",
    "        \n",
    "        if word in word_dict.keys():\n",
    "            count += 1\n",
    "            \n",
    "    #print(F'word count for: {word} is {count}')    \n",
    "    return count\n",
    "def get_idf(sentences, unique_words):\n",
    "    rows = []\n",
    "    columns = []\n",
    "    values = []\n",
    "    vocabulary = []\n",
    "    word_count = {}\n",
    "    tf_idf = {}\n",
    "    idx = 0\n",
    "    N = len(sentences)\n",
    "    \n",
    "    if isinstance(sentences, (list,)):\n",
    "        for sentence in sentences:\n",
    "            word_freq = dict(Counter(sentence.split()))\n",
    "            total_word_count = len(sentence.split())\n",
    "            for word, val in word_freq.items():\n",
    "                tf = val/ total_word_count\n",
    "                ni = get_no_of_word_count(word, sentences)\n",
    "                idf = 1 + np.log((N+1)/(ni+1))\n",
    "                 \n",
    "                tf_idf[sentence, word] = tf*idf\n",
    "            \n",
    "                col_index = unique_words.get(word, -1) # retreving the dimension number of a word\n",
    "                # if the word exists\n",
    "                if col_index !=-1:\n",
    "                    # we are storing the index of the document\n",
    "                    rows.append(idx)\n",
    "                    # we are storing the dimensions of the word\n",
    "                    columns.append(col_index)\n",
    "                    # we are storing the frequency of the word\n",
    "                    values.append(idf)\n",
    "            idx +=1\n",
    "        \n",
    "        return csr_matrix((values, (rows,columns)), shape=(len(sentences),len(unique_words)))\n",
    "            "
   ]
  },
  {
   "cell_type": "code",
   "execution_count": 74,
   "metadata": {},
   "outputs": [
    {
     "name": "stdout",
     "output_type": "stream",
     "text": [
      "Feature names:\n",
      " ['This', 'first', 'is', 'it', 'my', 'second', 'string', 'third']\n",
      "sparse matrix:\n",
      "   (0, 0)\t1.2231435513142097\n",
      "  (0, 1)\t1.5108256237659907\n",
      "  (0, 2)\t1.0\n",
      "  (0, 4)\t1.0\n",
      "  (0, 6)\t1.0\n",
      "Dense matrix: \n",
      " [1.22314355 1.51082562 1.         0.         1.         0.\n",
      " 1.         0.        ]\n"
     ]
    }
   ],
   "source": [
    "vocab = get_unique_word(strings)\n",
    "print('Feature names:\\n', list(vocab.keys()))\n",
    "\n",
    "A = get_idf(strings, vocab)\n",
    "print('sparse matrix:\\n', A[0])\n",
    "\n",
    "print('Dense matrix: \\n', A.toarray()[0])"
   ]
  },
  {
   "cell_type": "markdown",
   "metadata": {},
   "source": [
    "### Amazon fine food review ( BOW with TSNE)"
   ]
  },
  {
   "cell_type": "code",
   "execution_count": 46,
   "metadata": {},
   "outputs": [
    {
     "data": {
      "text/plain": [
       "(2000, 62944)"
      ]
     },
     "execution_count": 46,
     "metadata": {},
     "output_type": "execute_result"
    }
   ],
   "source": [
    "from sklearn.preprocessing import StandardScaler\n",
    "\n",
    "std_data = StandardScaler(with_mean = False).fit_transform(final_bigram_counts)\n",
    "std_data.shape"
   ]
  },
  {
   "cell_type": "code",
   "execution_count": 47,
   "metadata": {},
   "outputs": [
    {
     "data": {
      "text/plain": [
       "scipy.sparse.csr.csr_matrix"
      ]
     },
     "execution_count": 47,
     "metadata": {},
     "output_type": "execute_result"
    }
   ],
   "source": [
    "type(std_data)"
   ]
  },
  {
   "cell_type": "code",
   "execution_count": 48,
   "metadata": {},
   "outputs": [],
   "source": [
    "std_data = std_data.toarray()"
   ]
  },
  {
   "cell_type": "code",
   "execution_count": 51,
   "metadata": {},
   "outputs": [
    {
     "name": "stderr",
     "output_type": "stream",
     "text": [
      "C:\\Users\\Jyotiprakash Das\\Anaconda3\\lib\\site-packages\\seaborn\\axisgrid.py:230: UserWarning: The `size` paramter has been renamed to `height`; please update your code.\n",
      "  warnings.warn(msg, UserWarning)\n"
     ]
    },
    {
     "data": {
      "image/png": "[encoded data removed]",
      "text/plain": [
       "<Figure size 511.75x432 with 1 Axes>"
      ]
     },
     "metadata": {
      "needs_background": "light"
     },
     "output_type": "display_data"
    }
   ],
   "source": [
    "from sklearn.manifold import TSNE\n",
    "model = TSNE(n_components=2, perplexity = 50)\n",
    "# configuring the parameteres\n",
    "# the number of components = 2\n",
    "# default perplexity = 30\n",
    "# default learning rate = 200\n",
    "# default Maximum number of iterations for the optimization = 1000\n",
    "\n",
    "tsne_data = model.fit_transform(std_data)\n",
    "\n",
    "\n",
    "# creating a new data frame which help us in ploting the result data\n",
    "tsne_data = np.vstack((tsne_data.T, Score_2k)).T\n",
    "tsne_df = pd.DataFrame(data=tsne_data, columns=(\"dim1\", \"dim2\", \"Score\"))\n",
    "\n",
    "# Ploting the result of tsne\n",
    "sns.FacetGrid(tsne_df, hue=\"Score\", size=6).map(plt.scatter, 'dim1', 'dim2').add_legend()\n",
    "plt.title(\"TSNE for Bag of Words\")\n",
    "plt.show()"
   ]
  },
  {
   "cell_type": "markdown",
   "metadata": {},
   "source": [
    "### Amazon fine food review ( tfidf with TSNE)"
   ]
  },
  {
   "cell_type": "code",
   "execution_count": 62,
   "metadata": {},
   "outputs": [
    {
     "name": "stdout",
     "output_type": "stream",
     "text": [
      "the type of count vectorizer  <class 'scipy.sparse.csr.csr_matrix'>\n",
      "the shape of out text TFIDF vectorizer  (2000, 62944)\n",
      "the number of unique words including both unigrams and bigrams  62944\n"
     ]
    }
   ],
   "source": [
    "print(\"the type of count vectorizer \",type(final_tf_idf))\n",
    "print(\"the shape of out text TFIDF vectorizer \",final_tf_idf.get_shape())\n",
    "print(\"the number of unique words including both unigrams and bigrams \", final_tf_idf.get_shape()[1])"
   ]
  },
  {
   "cell_type": "code",
   "execution_count": 63,
   "metadata": {},
   "outputs": [],
   "source": [
    "from sklearn.preprocessing import StandardScaler\n",
    "\n",
    "std_data = StandardScaler(with_mean = False).fit_transform(final_tf_idf)"
   ]
  },
  {
   "cell_type": "code",
   "execution_count": 64,
   "metadata": {},
   "outputs": [
    {
     "data": {
      "text/plain": [
       "(2000, 62944)"
      ]
     },
     "execution_count": 64,
     "metadata": {},
     "output_type": "execute_result"
    }
   ],
   "source": [
    "std_data.shape"
   ]
  },
  {
   "cell_type": "code",
   "execution_count": 65,
   "metadata": {},
   "outputs": [],
   "source": [
    "std_data=std_data.toarray()\n"
   ]
  },
  {
   "cell_type": "code",
   "execution_count": 66,
   "metadata": {},
   "outputs": [
    {
     "name": "stderr",
     "output_type": "stream",
     "text": [
      "C:\\Users\\Jyotiprakash Das\\Anaconda3\\lib\\site-packages\\seaborn\\axisgrid.py:230: UserWarning: The `size` paramter has been renamed to `height`; please update your code.\n",
      "  warnings.warn(msg, UserWarning)\n"
     ]
    },
    {
     "data": {
      "image/png": "[encoded data removed]",
      "text/plain": [
       "<Figure size 511.75x432 with 1 Axes>"
      ]
     },
     "metadata": {
      "needs_background": "light"
     },
     "output_type": "display_data"
    }
   ],
   "source": [
    "from sklearn.manifold import TSNE\n",
    "model = TSNE(n_components=2, perplexity = 50)\n",
    "\n",
    "tsne_data = model.fit_transform(std_data)\n",
    "\n",
    "\n",
    "# creating a new data frame which help us in ploting the result data\n",
    "tsne_data = np.vstack((tsne_data.T, Score_2k)).T\n",
    "tsne_df = pd.DataFrame(data=tsne_data, columns=(\"dim1\", \"dim2\", \"Score\"))\n",
    "\n",
    "# Ploting the result of tsne\n",
    "sns.FacetGrid(tsne_df, hue=\"Score\", size=6).map(plt.scatter, 'dim1', 'dim2').add_legend()\n",
    "plt.title(\"TSNE for TF - IDf\")\n",
    "plt.show()"
   ]
  },
  {
   "cell_type": "code",
   "execution_count": null,
   "metadata": {},
   "outputs": [],
   "source": []
  }
 ],
 "metadata": {
  "kernelspec": {
   "display_name": "Python 3",
   "language": "python",
   "name": "python3"
  },
  "language_info": {
   "codemirror_mode": {
    "name": "ipython",
    "version": 3
   },
   "file_extension": ".py",
   "mimetype": "text/x-python",
   "name": "python",
   "nbconvert_exporter": "python",
   "pygments_lexer": "ipython3",
   "version": "3.7.4"
  }
 },
 "nbformat": 4,
 "nbformat_minor": 2
}
